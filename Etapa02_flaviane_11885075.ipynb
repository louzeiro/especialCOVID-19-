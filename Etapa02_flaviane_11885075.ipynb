{
 "cells": [
  {
   "cell_type": "markdown",
   "metadata": {},
   "source": [
    " <font size=\"6\">   Universidade de São Paulo -  USP/São Carlos\n",
    "    \n",
    "    Instituto de Ciências Matemáticas e de Computação - ICMC\n",
    "    \n",
    "    Estatística e Ciência de Dados\n",
    "    \n",
    "    Grupo: Flaviane Louzeiro da Silva - nUSP 11885075\n",
    "    \n",
    "    SCC0652 - Visualização Computacional \n",
    "    \n",
    "    Projeto: etapa 1\n",
    " \n",
    "</font>\n"
   ]
  },
  {
   "cell_type": "markdown",
   "metadata": {},
   "source": [
    "# Descrição da base de dados\n",
    "\n",
    "Com o objetivo de ajudar pesquisadores e corpo médico no combate ao Covid-19, foi lançado um desafio Kaggle[1] para tratamento e busca de informações em uma base de dados formada por diversos artigos científicos relacionados ao corona vírus, o **COVID-19 Open Research Dataset (CORD-19)**.\n",
    "\n",
    "  Atualmente, o CORD-19 possue mais de 200.000 artigos, destes pelos menos 100.000 são artigos completos, gerando em torno de 20GB. No entanto, para esta tarefa usei uma base com apenas 4GB, que contém mais de 29.000 artigos, onde pelo menos 13.000 desses são artigos completos. Esses artigos estão formatados na estrutura *.JSON*\n",
    "\n",
    "[1] https://www.kaggle.com/allen-institute-for-ai/CORD-19-research-challenge"
   ]
  },
  {
   "cell_type": "markdown",
   "metadata": {},
   "source": [
    "[Etapa 02] (#etapa_02)"
   ]
  },
  {
   "cell_type": "markdown",
   "metadata": {},
   "source": [
    "## Visualização da estrutura do dataset\n",
    "  \n",
    "   O dataset CORD-19 possuem estrutura apresentada abaixo, com 4 diretórios principais. \n",
    "   <img src=\"figs/estruturaCORD-19.png\"/>\n",
    "   \n",
    "   Dentro de cada diretório há os artigos em formato *JSON*. \n",
    "   <img src=\"figs/arquivosJSON.png\" />\n",
    "   \n",
    "   Os artigo *.JSON* possuem estão estruturados no formato abaixo:\n",
    "   <img src=\"figs/estrutruraJSON.png\"/>\n",
    "   \n",
    "   Onde o título se apresenta conforme a figura a seguir\n",
    "   <img src=\"figs/title.png\"/>\n",
    "   \n",
    "   O resumo está contido na seguinte estrutura.\n",
    "   <img src=\"figs/abstract.png\"/>\n",
    "   \n",
    "   E por fim, o corpo do artigo encontra-se no formato abaixo, onde cada subseção *1,2...* contém um paragrafo da publicação.\n",
    "   <img src=\"figs/corpo.png\"/>\n",
    "   \n",
    "   \n",
    "   Esta exploração da estrutura do arquivo é necessária pois os códigos desenvolvidos terá que alimentar um dataframe com as informações contidas em cada seção dos artigos contidos no *CORD-19*."
   ]
  },
  {
   "cell_type": "markdown",
   "metadata": {},
   "source": [
    "## Metodologia\n",
    "\n",
    "Conforme visto em aula, a organização e seleção dos dados é a primeiro etapa do pipeline de visualização. Dessa forma a persistência dos dados é crucial nesse processo. \n",
    "\n",
    "Em resumo, nesta etapa será realizada a:\n",
    "* inserção dos artigos em um dataframe;\n",
    "* exclusão dos artigos que por ventura estejam faltando alguma seção como ID, título, resumo, corpo do texto;\n",
    "* remoção de artigos duplicados\n",
    "\n",
    "A seguir será apresentada a metodologia utilizada para manipulação do dataset, onde o objetivo é organizar o dataset em um dataframe para utilizá-lo posteriormente. "
   ]
  },
  {
   "cell_type": "markdown",
   "metadata": {},
   "source": [
    "### Instalação e carregamento das Bibliotecas"
   ]
  },
  {
   "cell_type": "code",
   "execution_count": 1,
   "metadata": {},
   "outputs": [],
   "source": [
    "import pandas as pd\n",
    "import glob\n",
    "import json \n",
    "import seaborn as sns"
   ]
  },
  {
   "cell_type": "markdown",
   "metadata": {},
   "source": [
    "### Definição da estrutura do dataframe\n",
    "Inicialmente será criado um dicionário vazio, que será utilizado para buscar na base de dados os seguintes atributos nos artigos:\n",
    "* a identificação (paper_id);\n",
    "* o título (title)\n",
    "* o resumo (abstract)\n",
    "* o corpo (text)"
   ]
  },
  {
   "cell_type": "code",
   "execution_count": 2,
   "metadata": {},
   "outputs": [
    {
     "data": {
      "text/plain": [
       "dict"
      ]
     },
     "execution_count": 2,
     "metadata": {},
     "output_type": "execute_result"
    }
   ],
   "source": [
    "dicArtigos = {'paper_id':[], 'title':[],\n",
    "             'abstract':[], 'text':[]}\n",
    "type(dicArtigos)"
   ]
  },
  {
   "cell_type": "markdown",
   "metadata": {},
   "source": [
    "Posteriormente o dicionário é transformado em dataframe, para facilitar a manipulação no decorrer do processamento."
   ]
  },
  {
   "cell_type": "code",
   "execution_count": 3,
   "metadata": {},
   "outputs": [
    {
     "data": {
      "text/plain": [
       "pandas.core.frame.DataFrame"
      ]
     },
     "execution_count": 3,
     "metadata": {},
     "output_type": "execute_result"
    }
   ],
   "source": [
    "dfArtigos = pd.DataFrame.from_dict(dicArtigos)\n",
    "type(dfArtigos)"
   ]
  },
  {
   "cell_type": "markdown",
   "metadata": {},
   "source": [
    "### Listagem dos artigos contidos no dataset\n",
    "Criada a estrutura, será feita uma busca recursiva pelos arquivos .json presentes no diretório com o auxílio da blibioteca de leitura de diretorio glob. Os arquivos *.json* serão lidos e o nome do arquivo será inserido na lista."
   ]
  },
  {
   "cell_type": "code",
   "execution_count": 4,
   "metadata": {},
   "outputs": [
    {
     "name": "stdout",
     "output_type": "stream",
     "text": [
      "Foram encontrados  29315  artigos\n"
     ]
    }
   ],
   "source": [
    "listaArtigos = glob.glob(f'{\"./\"}//**/*.json', recursive= True) \n",
    "\n",
    "print('Foram encontrados ',len(listaArtigos), ' artigos') # total de artigos percorrido"
   ]
  },
  {
   "cell_type": "markdown",
   "metadata": {},
   "source": [
    "### Carregando o dataframe\n",
    "A seguir será criada a função que de fato alimentará o dataframe com os atributos definidos anteriormente."
   ]
  },
  {
   "cell_type": "code",
   "execution_count": 5,
   "metadata": {},
   "outputs": [],
   "source": [
    "## funcao que vai percorrer todos os aquivos e popular o DF\n",
    "def funcao_dfArtigos(listaArtigos, df):\n",
    "    for nomeArtigo in listaArtigos:\n",
    "        linhaDF={'paper_id':None, 'title':None,\n",
    "                 'abstract':None, 'text':None}\n",
    "        \n",
    "        with open(nomeArtigo) as json_data:\n",
    "            \n",
    "            dados = json.load(json_data)\n",
    "            \n",
    "            linhaDF['paper_id']=dados['paper_id'].strip() #retirando os espaços no inicio e no fim\n",
    "            linhaDF['title']=dados['metadata']['title'] \n",
    "            # extração palavra por palavra do abstract\n",
    "            listaAbstract = [abstract['text'] for abstract in dados['abstract']]\n",
    "            abstract = '\\n'.join(listaAbstract)\n",
    "            linhaDF['abstract']=abstract.strip()\n",
    "            # extração palavra por palavra do conteudo\n",
    "            listaTexto = [text['text'] for text in dados['body_text']] \n",
    "            texto = '\\n'.join(listaTexto)\n",
    "            linhaDF['text']=texto.strip()\n",
    "            \n",
    "            df = df.append(linhaDF, ignore_index = True)\n",
    "        \n",
    "    return df\n",
    "    "
   ]
  },
  {
   "cell_type": "markdown",
   "metadata": {},
   "source": [
    "Chamada da função. Agora de fato ocorrerá a extração dos dados e insersão no dataframe.\n",
    "\n",
    "**Observação: Este procedimento poderá demorar alguns minutos.**\n"
   ]
  },
  {
   "cell_type": "code",
   "execution_count": 6,
   "metadata": {},
   "outputs": [],
   "source": [
    "dfArtigos = funcao_dfArtigos(listaArtigos, dfArtigos) "
   ]
  },
  {
   "cell_type": "code",
   "execution_count": 7,
   "metadata": {
    "scrolled": false
   },
   "outputs": [
    {
     "name": "stdout",
     "output_type": "stream",
     "text": [
      "O dataframe foi alimentado com  29315  artigos e  4  atributos\n"
     ]
    }
   ],
   "source": [
    "print('O dataframe foi alimentado com ',dfArtigos.shape[0], ' artigos e ', dfArtigos.shape[1], ' atributos')"
   ]
  },
  {
   "cell_type": "code",
   "execution_count": 8,
   "metadata": {},
   "outputs": [],
   "source": [
    "## salvando o total de artigos para comparar\n",
    "totalArtigos=dfArtigos.shape[0] "
   ]
  },
  {
   "cell_type": "markdown",
   "metadata": {},
   "source": [
    "## Verificação da Base de dados\n",
    "\n",
    "Inicialmente será verificado no dataframe se há valores faltantes, ou seja, se no dataframe os artigos foram  alimentado com todos os atributos definidos no dicionário. \n",
    "\n",
    "Então, por se tratar de uma base de dados textual será será feito um mapa de calor com o auxilio da biblioteca *seaborn*. A intenção é visualmente saber em quais artigos há atributos faltantes. "
   ]
  },
  {
   "cell_type": "code",
   "execution_count": 9,
   "metadata": {},
   "outputs": [
    {
     "data": {
      "image/png": "[encoded data removed]",
      "text/plain": [
       "<Figure size 432x288 with 2 Axes>"
      ]
     },
     "metadata": {
      "needs_background": "light"
     },
     "output_type": "display_data"
    }
   ],
   "source": [
    "sns.heatmap(dfArtigos.isnull());"
   ]
  },
  {
   "cell_type": "markdown",
   "metadata": {},
   "source": [
    "**Observação:** De acordo com o mapa de calor, em todos os artigos foram carregadas alguma informação em cada atributo, seja informação útil ou apenas um espaço. No entanto, conforme é possível notar no head do dataframe, há artigos sem título ou sem abstract."
   ]
  },
  {
   "cell_type": "code",
   "execution_count": 10,
   "metadata": {},
   "outputs": [
    {
     "data": {
      "text/html": [
       "<div>\n",
       "<style scoped>\n",
       "    .dataframe tbody tr th:only-of-type {\n",
       "        vertical-align: middle;\n",
       "    }\n",
       "\n",
       "    .dataframe tbody tr th {\n",
       "        vertical-align: top;\n",
       "    }\n",
       "\n",
       "    .dataframe thead th {\n",
       "        text-align: right;\n",
       "    }\n",
       "</style>\n",
       "<table border=\"1\" class=\"dataframe\">\n",
       "  <thead>\n",
       "    <tr style=\"text-align: right;\">\n",
       "      <th></th>\n",
       "      <th>paper_id</th>\n",
       "      <th>title</th>\n",
       "      <th>abstract</th>\n",
       "      <th>text</th>\n",
       "    </tr>\n",
       "  </thead>\n",
       "  <tbody>\n",
       "    <tr>\n",
       "      <th>0</th>\n",
       "      <td>c79f73c69108533aa867037948f63229d877e9fd</td>\n",
       "      <td></td>\n",
       "      <td></td>\n",
       "      <td>Fatty acids are covalently attached to many me...</td>\n",
       "    </tr>\n",
       "    <tr>\n",
       "      <th>1</th>\n",
       "      <td>90d1d04a22ec4e9f4e1e0d63053a99784ca489d6</td>\n",
       "      <td>Equine sarcoid: In situ demonstration of matri...</td>\n",
       "      <td>Sarcoids are the most prevalent equine skin tu...</td>\n",
       "      <td>Sarcoids are the most common equine skin tumou...</td>\n",
       "    </tr>\n",
       "    <tr>\n",
       "      <th>2</th>\n",
       "      <td>0a9145664ca5e8dd902b5f01f70a53e638ab52a9</td>\n",
       "      <td>Evaluation of a single-tube fluorogenic RT-PCR...</td>\n",
       "      <td>Bovine respiratory syncytial virus (BRSV) caus...</td>\n",
       "      <td>Bovine respiratory syncytial virus (BRSV), a P...</td>\n",
       "    </tr>\n",
       "    <tr>\n",
       "      <th>3</th>\n",
       "      <td>4564577ec73f757cb36aae29fd4c867482f84dee</td>\n",
       "      <td>Evidence and future potential of mobile phone ...</td>\n",
       "      <td>Global health threats such as the recent Ebola...</td>\n",
       "      <td>Novel sources of data coupled with new data mi...</td>\n",
       "    </tr>\n",
       "    <tr>\n",
       "      <th>4</th>\n",
       "      <td>bc9e8da285ed2401fb1351f9edd7891385524c31</td>\n",
       "      <td>Brown</td>\n",
       "      <td>This chapter describes how the impact of psych...</td>\n",
       "      <td>This is an adaptive response in one sense, pro...</td>\n",
       "    </tr>\n",
       "  </tbody>\n",
       "</table>\n",
       "</div>"
      ],
      "text/plain": [
       "                                   paper_id  \\\n",
       "0  c79f73c69108533aa867037948f63229d877e9fd   \n",
       "1  90d1d04a22ec4e9f4e1e0d63053a99784ca489d6   \n",
       "2  0a9145664ca5e8dd902b5f01f70a53e638ab52a9   \n",
       "3  4564577ec73f757cb36aae29fd4c867482f84dee   \n",
       "4  bc9e8da285ed2401fb1351f9edd7891385524c31   \n",
       "\n",
       "                                               title  \\\n",
       "0                                                      \n",
       "1  Equine sarcoid: In situ demonstration of matri...   \n",
       "2  Evaluation of a single-tube fluorogenic RT-PCR...   \n",
       "3  Evidence and future potential of mobile phone ...   \n",
       "4                                              Brown   \n",
       "\n",
       "                                            abstract  \\\n",
       "0                                                      \n",
       "1  Sarcoids are the most prevalent equine skin tu...   \n",
       "2  Bovine respiratory syncytial virus (BRSV) caus...   \n",
       "3  Global health threats such as the recent Ebola...   \n",
       "4  This chapter describes how the impact of psych...   \n",
       "\n",
       "                                                text  \n",
       "0  Fatty acids are covalently attached to many me...  \n",
       "1  Sarcoids are the most common equine skin tumou...  \n",
       "2  Bovine respiratory syncytial virus (BRSV), a P...  \n",
       "3  Novel sources of data coupled with new data mi...  \n",
       "4  This is an adaptive response in one sense, pro...  "
      ]
     },
     "execution_count": 10,
     "metadata": {},
     "output_type": "execute_result"
    }
   ],
   "source": [
    "dfArtigos.head()"
   ]
  },
  {
   "cell_type": "markdown",
   "metadata": {},
   "source": [
    "#### Verificação dos atributos\n",
    "\n",
    "Dessa forma será verificado em todas as colunas do dataframe se há algum atributo com apenas um espaço, ou seja ''"
   ]
  },
  {
   "cell_type": "code",
   "execution_count": 11,
   "metadata": {},
   "outputs": [
    {
     "name": "stdout",
     "output_type": "stream",
     "text": [
      "Foram encontrados  0 artigos sem o ID\n"
     ]
    }
   ],
   "source": [
    "# verificando se há artigo sem ID\n",
    "print ('Foram encontrados ',len(dfArtigos[dfArtigos['paper_id']=='']), 'artigos sem o ID')"
   ]
  },
  {
   "cell_type": "code",
   "execution_count": 12,
   "metadata": {},
   "outputs": [
    {
     "name": "stdout",
     "output_type": "stream",
     "text": [
      "Foram encontrados  3583 artigos sem o título\n"
     ]
    }
   ],
   "source": [
    "print ('Foram encontrados ',len(dfArtigos[dfArtigos['title']=='']),'artigos sem o título')"
   ]
  },
  {
   "cell_type": "code",
   "execution_count": 13,
   "metadata": {},
   "outputs": [
    {
     "name": "stdout",
     "output_type": "stream",
     "text": [
      "Foram encontrados  8051 artigos sem o resumo\n"
     ]
    }
   ],
   "source": [
    "print ('Foram encontrados ',len(dfArtigos[dfArtigos['abstract']=='']), 'artigos sem o resumo')"
   ]
  },
  {
   "cell_type": "code",
   "execution_count": 14,
   "metadata": {},
   "outputs": [
    {
     "name": "stdout",
     "output_type": "stream",
     "text": [
      "Foram encontrados  0 artigos sem conteúdo\n"
     ]
    }
   ],
   "source": [
    "print ('Foram encontrados ',len(dfArtigos[dfArtigos['text']=='']),'artigos sem conteúdo')"
   ]
  },
  {
   "cell_type": "markdown",
   "metadata": {},
   "source": [
    "#### Remoção dos artigos  \n",
    "Feita as verificações, será excluído da base de dados os artigos com informações faltantes"
   ]
  },
  {
   "cell_type": "code",
   "execution_count": 15,
   "metadata": {},
   "outputs": [],
   "source": [
    "## apagando os artigos que faltam informações\n",
    "dfArtigos = dfArtigos[dfArtigos['title'] != ''] # deixando somente os artigos que tem titulo"
   ]
  },
  {
   "cell_type": "code",
   "execution_count": 16,
   "metadata": {},
   "outputs": [],
   "source": [
    "dfArtigos = dfArtigos[dfArtigos['abstract'] != ''] # deixando somente os artigos que tem abstract"
   ]
  },
  {
   "cell_type": "code",
   "execution_count": 17,
   "metadata": {},
   "outputs": [
    {
     "name": "stdout",
     "output_type": "stream",
     "text": [
      "Haviam  29315 após a limpeza ficaram,  20343 artigos\n"
     ]
    }
   ],
   "source": [
    "print('Haviam ', totalArtigos,'após a limpeza ficaram, ', dfArtigos.shape[0],'artigos')"
   ]
  },
  {
   "cell_type": "markdown",
   "metadata": {},
   "source": [
    "#### Removendo os artigos duplicados\n",
    "Por fim, usando a função do pandas *drop_duplicates*, será removido os artigos que estejam duplicados no dataframe."
   ]
  },
  {
   "cell_type": "code",
   "execution_count": 18,
   "metadata": {},
   "outputs": [],
   "source": [
    "# remoção de artigos duplicados, o inplace = true remove e atualiza o df\n",
    "dfArtigos.drop_duplicates(['abstract','text','title'], inplace=True)"
   ]
  },
  {
   "cell_type": "code",
   "execution_count": 19,
   "metadata": {},
   "outputs": [
    {
     "name": "stdout",
     "output_type": "stream",
     "text": [
      "Haviam  29315 artigos, após todas as verificações restaram  20211 artigos\n",
      "Uma redução de 31 % da base de dados\n"
     ]
    }
   ],
   "source": [
    "print('Haviam ', totalArtigos, 'artigos, após todas as verificações restaram ', dfArtigos.shape[0],'artigos')\n",
    "print('Uma redução de',round(100-dfArtigos.shape[0]*100/totalArtigos), '% da base de dados')"
   ]
  },
  {
   "cell_type": "markdown",
   "metadata": {},
   "source": [
    "## Conclusão\n",
    "\n",
    "O tratamento da base de dados foi o primeiro passo dado. A base de dados é textual e, conforme apresentado anteriormente, houve uma redução de 31% após a verificação da base de dados. Com isso, verificou-se a importância da realização da persistência dos dados, visto que, embora o desafio siga regras e possivelmente tenha seguido uma política controle na inserção dos artigos no dataset, houveram artigos com seções faltosas além de artigos duplicados."
   ]
  },
  {
   "cell_type": "markdown",
   "metadata": {},
   "source": [
    "# Etapa 02 <a id=\"etapa_02\"></a>"
   ]
  },
  {
   "cell_type": "markdown",
   "metadata": {},
   "source": [
    "Com seus dados pré-processados, identifique em qual grupo taxonômico seu conjunto de dados se encaixa (p.e. categórico, numérico, híbrido, etc...). Justifique com uma explicação dos seus dados.\n",
    "\n",
    "        Vide o catálogo From Data to Viz\n",
    "\n",
    "Identifique qual mapeamento visual é o mais indicado para os seus dados e, se você julgar que aquele paradigma visual realmente é a melhor escolha, apresente seus dados com a visualização\n",
    "\n",
    "        Caso decida utilizar outra visualização, justifique a escolha\n",
    "\n",
    "Descreva os insights que a visualização proporcionou para os seus dados\n",
    "\n",
    "Para as próximas etapas:\n",
    "\n",
    "    Definir modelo de representação dos documentos\n",
    "\n",
    "    Definir objetivos do que você deseja realizar no conjunto de dados\n",
    "\n",
    "Já existem vários sistemas que trabalham com exploração visual deste conjunto de dados: CORD-19. Pode usar estes como inspiração sobre o que explorar no conjunto de dados"
   ]
  },
  {
   "cell_type": "markdown",
   "metadata": {},
   "source": [
    "## Objetivo etapa 2\n",
    "\n",
    "O objetivo é apresentar uma nuvem de palavras com os termos mais frequentes nos trabalhos contidos no dataset. Para isso, além pré processamento já realizado, será necessário inicialmente tratar os dados com bibliotecas de processamento natural \n",
    "    "
   ]
  },
  {
   "cell_type": "markdown",
   "metadata": {},
   "source": [
    "## Amostragem da base\n",
    "\n",
    "Embora já tenha ocorrido uma redução de 31% dos artigos após o pré processamento. Ainda sim há muitos o que resultou em um travamento de minha máquina. Dessa forma, será retirada uma amostra aleatória da base de dados com 500 artigos. E, para que o processo possa ser repetido, será fixado o random_state = 123."
   ]
  },
  {
   "cell_type": "code",
   "execution_count": 20,
   "metadata": {},
   "outputs": [],
   "source": [
    "dfArtigos = dfArtigos.sample(n=500, random_state=123)"
   ]
  },
  {
   "cell_type": "code",
   "execution_count": 21,
   "metadata": {},
   "outputs": [
    {
     "data": {
      "text/plain": [
       "(500, 4)"
      ]
     },
     "execution_count": 21,
     "metadata": {},
     "output_type": "execute_result"
    }
   ],
   "source": [
    "dfArtigos.shape # checando a estrutura do dataframe"
   ]
  },
  {
   "cell_type": "code",
   "execution_count": 22,
   "metadata": {},
   "outputs": [
    {
     "data": {
      "text/html": [
       "<div>\n",
       "<style scoped>\n",
       "    .dataframe tbody tr th:only-of-type {\n",
       "        vertical-align: middle;\n",
       "    }\n",
       "\n",
       "    .dataframe tbody tr th {\n",
       "        vertical-align: top;\n",
       "    }\n",
       "\n",
       "    .dataframe thead th {\n",
       "        text-align: right;\n",
       "    }\n",
       "</style>\n",
       "<table border=\"1\" class=\"dataframe\">\n",
       "  <thead>\n",
       "    <tr style=\"text-align: right;\">\n",
       "      <th></th>\n",
       "      <th>paper_id</th>\n",
       "      <th>title</th>\n",
       "      <th>abstract</th>\n",
       "      <th>text</th>\n",
       "    </tr>\n",
       "  </thead>\n",
       "  <tbody>\n",
       "    <tr>\n",
       "      <th>10258</th>\n",
       "      <td>113db0415367edaa4506fa09c05baf513fbbf9e1</td>\n",
       "      <td>Neutrophil-derived chemokines on the road to i...</td>\n",
       "      <td>During recent years, it has become clear that ...</td>\n",
       "      <td>Chemokines are 8-to 12-kDa polypeptides, shari...</td>\n",
       "    </tr>\n",
       "    <tr>\n",
       "      <th>29155</th>\n",
       "      <td>ae66f22f886d3b019934ae237c11a5fb53dbefb2</td>\n",
       "      <td>Prediction of receptorome for human-infecting ...</td>\n",
       "      <td>The virus receptor is key for viral infection ...</td>\n",
       "      <td>Receptor-binding is the first step for viral i...</td>\n",
       "    </tr>\n",
       "    <tr>\n",
       "      <th>22095</th>\n",
       "      <td>14f427656a9898ce76f31cb012f258a9aa6d1ce3</td>\n",
       "      <td>Establishment a real-time reverse transcriptio...</td>\n",
       "      <td>Bovine paratuberculosis (PTB) is a chronic ent...</td>\n",
       "      <td>Introduction Johne's disease (JD) is a chronic...</td>\n",
       "    </tr>\n",
       "    <tr>\n",
       "      <th>8356</th>\n",
       "      <td>b47cabaad947b93b9ede711028233cc0c9077ea8</td>\n",
       "      <td>Design, synthesis, and bioevaluation of viral ...</td>\n",
       "      <td>Keywords: Viral 3C and 3C-like protease inhibi...</td>\n",
       "      <td>Viruses that belong to the Picornaviridae, Cal...</td>\n",
       "    </tr>\n",
       "    <tr>\n",
       "      <th>1170</th>\n",
       "      <td>ca18e923f1cd6532ba1a7f05ca8e2abfa940834a</td>\n",
       "      <td>Clinical Trials and Novel Pathogens: Lessons L...</td>\n",
       "      <td>During the recent global outbreak of severe ac...</td>\n",
       "      <td>T he recognition of SARS as a transmissible di...</td>\n",
       "    </tr>\n",
       "  </tbody>\n",
       "</table>\n",
       "</div>"
      ],
      "text/plain": [
       "                                       paper_id  \\\n",
       "10258  113db0415367edaa4506fa09c05baf513fbbf9e1   \n",
       "29155  ae66f22f886d3b019934ae237c11a5fb53dbefb2   \n",
       "22095  14f427656a9898ce76f31cb012f258a9aa6d1ce3   \n",
       "8356   b47cabaad947b93b9ede711028233cc0c9077ea8   \n",
       "1170   ca18e923f1cd6532ba1a7f05ca8e2abfa940834a   \n",
       "\n",
       "                                                   title  \\\n",
       "10258  Neutrophil-derived chemokines on the road to i...   \n",
       "29155  Prediction of receptorome for human-infecting ...   \n",
       "22095  Establishment a real-time reverse transcriptio...   \n",
       "8356   Design, synthesis, and bioevaluation of viral ...   \n",
       "1170   Clinical Trials and Novel Pathogens: Lessons L...   \n",
       "\n",
       "                                                abstract  \\\n",
       "10258  During recent years, it has become clear that ...   \n",
       "29155  The virus receptor is key for viral infection ...   \n",
       "22095  Bovine paratuberculosis (PTB) is a chronic ent...   \n",
       "8356   Keywords: Viral 3C and 3C-like protease inhibi...   \n",
       "1170   During the recent global outbreak of severe ac...   \n",
       "\n",
       "                                                    text  \n",
       "10258  Chemokines are 8-to 12-kDa polypeptides, shari...  \n",
       "29155  Receptor-binding is the first step for viral i...  \n",
       "22095  Introduction Johne's disease (JD) is a chronic...  \n",
       "8356   Viruses that belong to the Picornaviridae, Cal...  \n",
       "1170   T he recognition of SARS as a transmissible di...  "
      ]
     },
     "execution_count": 22,
     "metadata": {},
     "output_type": "execute_result"
    }
   ],
   "source": [
    "dfArtigos.head() # checando os 5 primeiros"
   ]
  },
  {
   "cell_type": "markdown",
   "metadata": {},
   "source": [
    "### Uso da biblioteca científica\n",
    "\n",
    "Por se tratar de uma base de dados com artigos científicos, o inglês é a língua padrão e acredita-se que há uma baixa taxa de erros, visto que seguem regras bem explícitas pois são  publicados em revista.\n",
    "\n",
    "Será utilizada a biblioteca **spacy**, que é uma biblioteca para processamento avançado de linguagem natural, sendo bastante utilizada para analisar textos. Nela há o modelo **en_core_sci_md** já treinado na para o jargão médico. \n",
    "\n",
    "Dentre as funcionalidades há uma lista de stop words, que é uma lista de termos não representativos para um documento, geralmente essa lista é composta por: preposições, artigos, advérbios, números, pronomes e pontuação."
   ]
  },
  {
   "cell_type": "code",
   "execution_count": 23,
   "metadata": {},
   "outputs": [],
   "source": [
    "#### instalação das bibliotecas - Se necessário\n",
    "#pip install spacy\n",
    "#pip install scispacy\n",
    "#pip install https://s3-us-west-2.amazonaws.com/ai2-s2-scispacy/releases/v0.2.5/en_core_sci_md-0.2.5.tar.gz"
   ]
  },
  {
   "cell_type": "code",
   "execution_count": 24,
   "metadata": {},
   "outputs": [],
   "source": [
    "import spacy\n",
    "import scispacy\n",
    "import en_core_sci_md #fazer download na cell acima"
   ]
  },
  {
   "cell_type": "markdown",
   "metadata": {},
   "source": [
    "A seguir, será criado o modelo, onde serão desabilitados alguns parametros para facilitar o processamento. Além disse será definido o tamanho máximo de 2000000 caracteres a serem analisados em cada artigo."
   ]
  },
  {
   "cell_type": "code",
   "execution_count": 25,
   "metadata": {},
   "outputs": [],
   "source": [
    "modelo = en_core_sci_md.load(disable=['tagger', 'parser', 'ner'])\n",
    "modelo.max_lenght = 2000000"
   ]
  },
  {
   "cell_type": "markdown",
   "metadata": {},
   "source": [
    "### Extração e limpeza dos termos nos Textos\n",
    "\n",
    "Para a maioria dos tipos de processamento lingüístico é necessário identificar e categorizar as palavras de um texto, para isso é realizada a extração e limpeza dos termos, onde cada documento vai ter o seu conteúdo dividido em cada palavra significantiva presente no documento.\n",
    "\n",
    "Primeiro  é realizada a tokenização para decompor o documento em cada termo que o compõe, delimitando o espaço em branco entre os termos, quebras de linhas, tabulações, e alguns caracteres especiais. \n",
    "\n",
    "Além disso, é feita a limpeza, onde são removidos as stop words, depois é apliacada a lematização  que é o método para redução de um termo ao seu radical, removendo as desinências, afixos, e vogais temáticas, dessa forma os termos derivados de um mesmo radical serão contabilizados como um único termo.\n",
    "\n",
    "https://pt.wikipedia.org/wiki/Pr%C3%A9-processamento_de_dados"
   ]
  },
  {
   "cell_type": "code",
   "execution_count": 44,
   "metadata": {},
   "outputs": [],
   "source": [
    "def tokinizacao(sentenca):\n",
    "    sentenca = sentenca.lower() # colocando miusculo\n",
    "    \n",
    "    #lematização \n",
    "    lista = []\n",
    "    lista = [palavra.lemma_ for palavra in modelo(sentenca) if not (palavra.is_stop      #removendo as stop_words e\n",
    "                                                                   or palavra.like_num   #os numeros\n",
    "                                                                   or palavra.is_punct   # pontuacao\n",
    "                                                                   or palavra.is_space   # espaços excedentes \n",
    "                                                                   or len(palavra)== 1   # com tamanho 1 caractere                                                       \n",
    "                                                                   \n",
    "                                                                \n",
    "                                                                   )] \n",
    "    \n",
    "    lista = ' '.join([str(palavra) for palavra in lista]) #concatenando as palavras\n",
    "    \n",
    "    \n",
    "    return lista\n"
   ]
  },
  {
   "cell_type": "markdown",
   "metadata": {},
   "source": [
    "Testando a função no primeiro artigo da amostra"
   ]
  },
  {
   "cell_type": "code",
   "execution_count": 29,
   "metadata": {},
   "outputs": [
    {
     "name": "stdout",
     "output_type": "stream",
     "text": [
      "Antes da tokinizaçao:  37220  caracteres\n",
      "Após a tokinização:  25840  caracteres\n",
      "Uma redução de  69.43 %\n"
     ]
    }
   ],
   "source": [
    "teste = dfArtigos['text'][10258] \n",
    "print('Antes da tokinizaçao: ', len(teste), ' palavras')\n",
    "print('Após a tokinização: ', len(tokinizacao(teste)),' palavras')\n",
    "print('Uma redução de ', round(len(tokinizacao(teste))/len(teste)*100,2), '%')"
   ]
  },
  {
   "cell_type": "markdown",
   "metadata": {},
   "source": [
    "Testada a função, agora será aplicada em todos os atributos 'text' dos artigos do dataframe"
   ]
  },
  {
   "cell_type": "code",
   "execution_count": 47,
   "metadata": {},
   "outputs": [],
   "source": [
    "dfArtigos['text'] = dfArtigos['text'].apply(tokinizacao)"
   ]
  },
  {
   "cell_type": "markdown",
   "metadata": {},
   "source": [
    "## Salvando o dataframe\n",
    "\n",
    "Salvando o dataframe para o envio no Edisciplinas"
   ]
  },
  {
   "cell_type": "code",
   "execution_count": 48,
   "metadata": {},
   "outputs": [],
   "source": [
    "dfArtigos.to_csv('dfArtigos.csv')"
   ]
  },
  {
   "cell_type": "markdown",
   "metadata": {},
   "source": [
    "## Sumarização "
   ]
  },
  {
   "cell_type": "markdown",
   "metadata": {},
   "source": [
    "### Termos frequentes - Tabela de Frequencia\n",
    "Será usada a biblioteca NLTK, no entanto ela precisa que as entradas estejam em txt, assim, inicialmente será criado um txt para cada artigo."
   ]
  },
  {
   "cell_type": "code",
   "execution_count": 49,
   "metadata": {},
   "outputs": [],
   "source": [
    "for index, row in dfArtigos.iterrows(): #percorendo as linhas do DF\n",
    "    artigoTXT = open('corpus/'+row['paper_id']+'.txt', 'w') # criando o .txt\n",
    "    n = artigoTXT.write(row['text'])# excrevendo no .txt\n",
    "    artigoTXT.close()"
   ]
  },
  {
   "cell_type": "markdown",
   "metadata": {},
   "source": [
    "criando o Corpus"
   ]
  },
  {
   "cell_type": "code",
   "execution_count": 50,
   "metadata": {},
   "outputs": [],
   "source": [
    "import nltk\n",
    "from nltk.corpus import PlaintextCorpusReader\n",
    "corpus = PlaintextCorpusReader('corpus', '.*')"
   ]
  },
  {
   "cell_type": "code",
   "execution_count": 51,
   "metadata": {},
   "outputs": [
    {
     "name": "stdout",
     "output_type": "stream",
     "text": [
      "Há  1345417  palavras no corpus\n"
     ]
    }
   ],
   "source": [
    "n = corpus.words()\n",
    "print('Há ',len(n), ' palavras no corpus')"
   ]
  },
  {
   "cell_type": "code",
   "execution_count": 52,
   "metadata": {},
   "outputs": [
    {
     "data": {
      "text/plain": [
       "[('-', 53960),\n",
       " ('.', 21848),\n",
       " (',', 17577),\n",
       " ('cell', 11589),\n",
       " ('al', 9343),\n",
       " ('virus', 9195),\n",
       " ('/', 8532),\n",
       " ('1', 8337),\n",
       " ('protein', 7984),\n",
       " ('2', 7690),\n",
       " ('study', 6861),\n",
       " ('infection', 6783),\n",
       " ('viral', 4507),\n",
       " ('3', 4323),\n",
       " ('show', 4311),\n",
       " ('result', 4184),\n",
       " ('sequence', 3944),\n",
       " ('gene', 3765),\n",
       " ('high', 3754),\n",
       " ('fig', 3623),\n",
       " ('disease', 3579),\n",
       " ('datum', 3349),\n",
       " ('group', 3216),\n",
       " ('sample', 3128),\n",
       " ('human', 3098),\n",
       " ('increase', 3040),\n",
       " ('include', 3006),\n",
       " ('patient', 2983),\n",
       " ('test', 2858),\n",
       " ('time', 2796),\n",
       " ('analysis', 2722),\n",
       " ('mouse', 2701),\n",
       " ('rna', 2676),\n",
       " ('control', 2668),\n",
       " ('case', 2640),\n",
       " ('response', 2636),\n",
       " ('find', 2607),\n",
       " ('model', 2572),\n",
       " ('report', 2560),\n",
       " ('expression', 2539),\n",
       " ('different', 2527),\n",
       " ('level', 2527),\n",
       " ('table', 2404),\n",
       " ('type', 2297),\n",
       " ('infect', 2291),\n",
       " ('bind', 2283),\n",
       " ('day', 2251),\n",
       " ('antibody', 2240),\n",
       " ('activity', 2235),\n",
       " ('health', 2189),\n",
       " ('sars', 2189),\n",
       " ('method', 2172),\n",
       " ('low', 2151),\n",
       " ('effect', 2143),\n",
       " ('4', 2137),\n",
       " ('figure', 2135),\n",
       " ('influenza', 2133),\n",
       " ('site', 2117),\n",
       " ('numb', 2112),\n",
       " ('detect', 2101),\n",
       " ('cov', 2067),\n",
       " ('strain', 2061),\n",
       " ('observe', 2061),\n",
       " ('specific', 2059),\n",
       " ('respiratory', 2045),\n",
       " ('identify', 2038),\n",
       " ('animal', 2037),\n",
       " ('system', 2005),\n",
       " ('follow', 1928),\n",
       " ('compare', 1921),\n",
       " ('assay', 1905),\n",
       " ('c', 1896),\n",
       " ('5', 1867),\n",
       " ('base', 1830),\n",
       " ('suggest', 1812),\n",
       " ('treatment', 1809),\n",
       " ('acid', 1797),\n",
       " ('value', 1796),\n",
       " ('rate', 1790),\n",
       " ('host', 1742),\n",
       " ('membrane', 1698),\n",
       " ('pcr', 1692),\n",
       " ('structure', 1684),\n",
       " ('immune', 1681),\n",
       " ('e', 1678),\n",
       " ('clinical', 1666),\n",
       " ('target', 1652),\n",
       " ('contain', 1650),\n",
       " ('cause', 1647),\n",
       " ('provide', 1647),\n",
       " ('present', 1633),\n",
       " ('associate', 1632),\n",
       " ('ml', 1626),\n",
       " ('indicate', 1617),\n",
       " ('pathogen', 1611),\n",
       " ('use', 1605),\n",
       " ('similar', 1552),\n",
       " ('signal', 1552),\n",
       " ('genome', 1545),\n",
       " ('determine', 1543)]"
      ]
     },
     "execution_count": 52,
     "metadata": {},
     "output_type": "execute_result"
    }
   ],
   "source": [
    "frequenciaPalavra = nltk.FreqDist(palavra) # distribuição de frequencia\n",
    "maisFrequentes = frequenciaPalavra.most_common(100) # 100 mais comuns\n",
    "maisFrequentes"
   ]
  },
  {
   "cell_type": "markdown",
   "metadata": {},
   "source": [
    "### Termos Frequentes - Nuvem de Palavras"
   ]
  },
  {
   "cell_type": "code",
   "execution_count": 37,
   "metadata": {},
   "outputs": [],
   "source": [
    "#pip install wordcloud\n",
    "from wordcloud import WordCloud\n",
    "from matplotlib.colors import ListedColormap\n",
    "from matplotlib import pyplot as plt"
   ]
  },
  {
   "cell_type": "code",
   "execution_count": 53,
   "metadata": {},
   "outputs": [
    {
     "data": {
      "image/png": "[encoded data removed]",
      "text/plain": [
       "<Figure size 1080x1080 with 1 Axes>"
      ]
     },
     "metadata": {},
     "output_type": "display_data"
    }
   ],
   "source": [
    "coresMapa = ListedColormap(['orange', 'green', 'red','magenta']) # cores do mapa\n",
    "nuvemPalavras = WordCloud(background_color = 'white', max_words= 100, colormap = coresMapa)\n",
    "nuvemPalavras = nuvemPalavras.generate(dfArtigos['text'].str.cat(sep='\\n'))\n",
    "plt.figure(figsize = (15,15))\n",
    "plt.imshow(nuvemPalavras)\n",
    "plt.axis('off') # sem eixo x e y\n",
    "plt.show()"
   ]
  },
  {
   "cell_type": "markdown",
   "metadata": {},
   "source": [
    "## Insight - Extração de entidades nomeadas\n",
    "\n",
    "Utilizando recursos de processamento de linguagem natural, através da biblioteca spacy, será realizada a contagem dos países e nacionalidades mais citadas na amostra, fazendo busca pelas entidades nomeadas do tipo [GPE](https://spacy.io/api/annotation), ou seja, os paises, cidades e nacionalidades mais citadas na amostra. \n",
    "\n",
    "Para isso, será criando um modelo de reconhecimento de entidade na língua inglesa, com tamanho máximo de 2000000 caracteres.\n",
    "\n"
   ]
  },
  {
   "cell_type": "code",
   "execution_count": 55,
   "metadata": {},
   "outputs": [],
   "source": [
    "nlp_entidade = spacy.load('en')\n",
    "nlp_entidade.max_length = 2000000"
   ]
  },
  {
   "cell_type": "code",
   "execution_count": 56,
   "metadata": {},
   "outputs": [],
   "source": [
    "gpe = []\n",
    "for index, row in dfArtigos.iterrows():\n",
    "    text = row['text']\n",
    "    doc = nlp_entidade(text)\n",
    "    for entidade in doc.ents:\n",
    "        if entidade.label_ == 'GPE':\n",
    "            gpe.append(str(entidade.text))\n",
    "    "
   ]
  },
  {
   "cell_type": "markdown",
   "metadata": {},
   "source": [
    "Exibindo as entidades com mais de 50 citadas"
   ]
  },
  {
   "cell_type": "code",
   "execution_count": 57,
   "metadata": {},
   "outputs": [],
   "source": [
    "import numpy as np\n",
    "gpe_valor, gpe_qtd = np.unique(np.array(gpe), return_counts = True)\n",
    "dfGPE = pd.DataFrame({'valor':gpe_valor, 'qtd': gpe_qtd})\n",
    "dfGPE_filtrado = dfGPE[dfGPE.qtd>50] #  mais de 50 citações"
   ]
  },
  {
   "cell_type": "code",
   "execution_count": 58,
   "metadata": {},
   "outputs": [
    {
     "data": {
      "image/png": "[encoded data removed]",
      "text/plain": [
       "<Figure size 1080x576 with 1 Axes>"
      ]
     },
     "metadata": {},
     "output_type": "display_data"
    }
   ],
   "source": [
    "sns.set(rc={'figure.figsize':(15,8)})\n",
    "sns.barplot(x= 'valor', y='qtd', hue='valor', data = dfGPE_filtrado);"
   ]
  }
 ],
 "metadata": {
  "kernelspec": {
   "display_name": "Python 3",
   "language": "python",
   "name": "python3"
  },
  "language_info": {
   "codemirror_mode": {
    "name": "ipython",
    "version": 3
   },
   "file_extension": ".py",
   "mimetype": "text/x-python",
   "name": "python",
   "nbconvert_exporter": "python",
   "pygments_lexer": "ipython3",
   "version": "3.7.6"
  }
 },
 "nbformat": 4,
 "nbformat_minor": 4
}
