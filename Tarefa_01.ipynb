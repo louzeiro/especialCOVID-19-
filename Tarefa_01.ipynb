{
 "cells": [
  {
   "cell_type": "code",
   "execution_count": null,
   "metadata": {},
   "outputs": [],
   "source": [
    "# assistir o video de introdução para descrever as tarefas"
   ]
  },
  {
   "cell_type": "markdown",
   "metadata": {},
   "source": [
    "## Carregamento das bibliotecas"
   ]
  },
  {
   "cell_type": "code",
   "execution_count": 1,
   "metadata": {},
   "outputs": [],
   "source": [
    "#pip install spacy"
   ]
  },
  {
   "cell_type": "code",
   "execution_count": 2,
   "metadata": {},
   "outputs": [],
   "source": [
    "#pip install scispacy"
   ]
  },
  {
   "cell_type": "code",
   "execution_count": 2,
   "metadata": {},
   "outputs": [],
   "source": [
    "#pip install https://s3-us-west-2.amazonaws.com/ai2-s2-scispacy/releases/v0.2.5/en_core_sci_md-0.2.5.tar.gz"
   ]
  },
  {
   "cell_type": "code",
   "execution_count": 1,
   "metadata": {},
   "outputs": [],
   "source": [
    "import numpy as np\n",
    "import zipfile\n",
    "import pandas as pd\n",
    "import glob\n",
    "import json\n",
    "import seaborn as sns\n",
    "import spacy\n",
    "import nltk\n",
    "import scispacy\n",
    "from matplotlib import pyplot as plt\n",
    "import en_core_sci_md "
   ]
  },
  {
   "cell_type": "markdown",
   "metadata": {},
   "source": [
    "## Carregamento da base de dados - \n",
    "### não sei se preciso disso. no caso eu ja posso enviar descompactada a base"
   ]
  },
  {
   "cell_type": "code",
   "execution_count": 34,
   "metadata": {},
   "outputs": [],
   "source": [
    "#dirBD = './CORD-19-research-challenge.zip'\n",
    "#baseDados=zipfile.ZipFile(file = dirBD, mode = 'r') #modo leitura\n",
    "#baseDados.extractall('./')\n",
    "#baseDados.close()\n"
   ]
  },
  {
   "cell_type": "code",
   "execution_count": 2,
   "metadata": {},
   "outputs": [
    {
     "data": {
      "text/plain": [
       "dict"
      ]
     },
     "execution_count": 2,
     "metadata": {},
     "output_type": "execute_result"
    }
   ],
   "source": [
    "### dicionário\n",
    "dicArtigos = {'paper_id':[], 'title':[],\n",
    "             'abstract':[], 'text':[]}\n",
    "type(dicArtigos)"
   ]
  },
  {
   "cell_type": "code",
   "execution_count": 3,
   "metadata": {},
   "outputs": [
    {
     "data": {
      "text/plain": [
       "pandas.core.frame.DataFrame"
      ]
     },
     "execution_count": 3,
     "metadata": {},
     "output_type": "execute_result"
    }
   ],
   "source": [
    "## transformando em dataframe\n",
    "dfArtigos = pd.DataFrame.from_dict(dicArtigos)\n",
    "type(dfArtigos)"
   ]
  },
  {
   "cell_type": "code",
   "execution_count": 4,
   "metadata": {},
   "outputs": [],
   "source": [
    "## com o auxilio da blibioteca de leitura de diretorio será\n",
    "## lido o arquivo json, coletado o nome dos artigos e preennchido\n",
    "\n",
    "listaArtigos = glob.glob(f'{\"./\"}//**/*.json', recursive= True) "
   ]
  },
  {
   "cell_type": "code",
   "execution_count": 5,
   "metadata": {},
   "outputs": [
    {
     "data": {
      "text/plain": [
       "29315"
      ]
     },
     "execution_count": 5,
     "metadata": {},
     "output_type": "execute_result"
    }
   ],
   "source": [
    "# total de artigos percorrido\n",
    "len(listaArtigos)"
   ]
  },
  {
   "cell_type": "code",
   "execution_count": 6,
   "metadata": {},
   "outputs": [],
   "source": [
    "## funcao que vai percorrer todos os aquivos e pupilar o DF\n",
    "def funcao_dfArtigos(listaArtigos, df):\n",
    "    for nomeArtigo in listaArtigos:\n",
    "        linhaDF={'paper_id':None, 'title':None,\n",
    "                 'abstract':None, 'text':None}\n",
    "        \n",
    "        with open(nomeArtigo) as json_data:\n",
    "            if nomeArtigo=='./sample_data/anscombe.json': #se encontrar esse arq ele não le e continua\n",
    "                continue\n",
    "        \n",
    "            dados = json.load(json_data)\n",
    "            \n",
    "            linhaDF['paper_id']=dados['paper_id'].strip() #retirando os espaços no inicio e no fim\n",
    "            linhaDF['title']=dados['metadata']['title'] # há uma tag a mais mostrar a estrutura da base\n",
    "            # extração palavra por palavra do abstract\n",
    "            listaAbstract = [abstract['text'] for abstract in dados['abstract']]\n",
    "            abstract = '\\n'.join(listaAbstract)# unindo\n",
    "            linhaDF['abstract']=abstract.strip()\n",
    "            # extração palavra por palavra do conteudo\n",
    "            listaTexto = [text['text'] for text in dados['body_text']] # unindo\n",
    "            texto = '\\n'.join(listaTexto)\n",
    "            linhaDF['text']=texto.strip()\n",
    "            \n",
    "            df = df.append(linhaDF, ignore_index = True)\n",
    "        \n",
    "    return df\n",
    "    "
   ]
  },
  {
   "cell_type": "code",
   "execution_count": 7,
   "metadata": {},
   "outputs": [],
   "source": [
    "## agora ocorrerá a extração da base e insersão dos dados no df\n",
    "dfArtigos = funcao_dfArtigos(listaArtigos, dfArtigos)"
   ]
  },
  {
   "cell_type": "code",
   "execution_count": 8,
   "metadata": {
    "scrolled": false
   },
   "outputs": [
    {
     "data": {
      "text/plain": [
       "(29315, 4)"
      ]
     },
     "execution_count": 8,
     "metadata": {},
     "output_type": "execute_result"
    }
   ],
   "source": [
    "dfArtigos.shape"
   ]
  },
  {
   "cell_type": "code",
   "execution_count": 9,
   "metadata": {},
   "outputs": [
    {
     "data": {
      "text/html": [
       "<div>\n",
       "<style scoped>\n",
       "    .dataframe tbody tr th:only-of-type {\n",
       "        vertical-align: middle;\n",
       "    }\n",
       "\n",
       "    .dataframe tbody tr th {\n",
       "        vertical-align: top;\n",
       "    }\n",
       "\n",
       "    .dataframe thead th {\n",
       "        text-align: right;\n",
       "    }\n",
       "</style>\n",
       "<table border=\"1\" class=\"dataframe\">\n",
       "  <thead>\n",
       "    <tr style=\"text-align: right;\">\n",
       "      <th></th>\n",
       "      <th>paper_id</th>\n",
       "      <th>title</th>\n",
       "      <th>abstract</th>\n",
       "      <th>text</th>\n",
       "    </tr>\n",
       "  </thead>\n",
       "  <tbody>\n",
       "    <tr>\n",
       "      <th>0</th>\n",
       "      <td>c79f73c69108533aa867037948f63229d877e9fd</td>\n",
       "      <td></td>\n",
       "      <td></td>\n",
       "      <td>Fatty acids are covalently attached to many me...</td>\n",
       "    </tr>\n",
       "    <tr>\n",
       "      <th>1</th>\n",
       "      <td>90d1d04a22ec4e9f4e1e0d63053a99784ca489d6</td>\n",
       "      <td>Equine sarcoid: In situ demonstration of matri...</td>\n",
       "      <td>Sarcoids are the most prevalent equine skin tu...</td>\n",
       "      <td>Sarcoids are the most common equine skin tumou...</td>\n",
       "    </tr>\n",
       "    <tr>\n",
       "      <th>2</th>\n",
       "      <td>0a9145664ca5e8dd902b5f01f70a53e638ab52a9</td>\n",
       "      <td>Evaluation of a single-tube fluorogenic RT-PCR...</td>\n",
       "      <td>Bovine respiratory syncytial virus (BRSV) caus...</td>\n",
       "      <td>Bovine respiratory syncytial virus (BRSV), a P...</td>\n",
       "    </tr>\n",
       "    <tr>\n",
       "      <th>3</th>\n",
       "      <td>4564577ec73f757cb36aae29fd4c867482f84dee</td>\n",
       "      <td>Evidence and future potential of mobile phone ...</td>\n",
       "      <td>Global health threats such as the recent Ebola...</td>\n",
       "      <td>Novel sources of data coupled with new data mi...</td>\n",
       "    </tr>\n",
       "    <tr>\n",
       "      <th>4</th>\n",
       "      <td>bc9e8da285ed2401fb1351f9edd7891385524c31</td>\n",
       "      <td>Brown</td>\n",
       "      <td>This chapter describes how the impact of psych...</td>\n",
       "      <td>This is an adaptive response in one sense, pro...</td>\n",
       "    </tr>\n",
       "  </tbody>\n",
       "</table>\n",
       "</div>"
      ],
      "text/plain": [
       "                                   paper_id  \\\n",
       "0  c79f73c69108533aa867037948f63229d877e9fd   \n",
       "1  90d1d04a22ec4e9f4e1e0d63053a99784ca489d6   \n",
       "2  0a9145664ca5e8dd902b5f01f70a53e638ab52a9   \n",
       "3  4564577ec73f757cb36aae29fd4c867482f84dee   \n",
       "4  bc9e8da285ed2401fb1351f9edd7891385524c31   \n",
       "\n",
       "                                               title  \\\n",
       "0                                                      \n",
       "1  Equine sarcoid: In situ demonstration of matri...   \n",
       "2  Evaluation of a single-tube fluorogenic RT-PCR...   \n",
       "3  Evidence and future potential of mobile phone ...   \n",
       "4                                              Brown   \n",
       "\n",
       "                                            abstract  \\\n",
       "0                                                      \n",
       "1  Sarcoids are the most prevalent equine skin tu...   \n",
       "2  Bovine respiratory syncytial virus (BRSV) caus...   \n",
       "3  Global health threats such as the recent Ebola...   \n",
       "4  This chapter describes how the impact of psych...   \n",
       "\n",
       "                                                text  \n",
       "0  Fatty acids are covalently attached to many me...  \n",
       "1  Sarcoids are the most common equine skin tumou...  \n",
       "2  Bovine respiratory syncytial virus (BRSV), a P...  \n",
       "3  Novel sources of data coupled with new data mi...  \n",
       "4  This is an adaptive response in one sense, pro...  "
      ]
     },
     "execution_count": 9,
     "metadata": {},
     "output_type": "execute_result"
    }
   ],
   "source": [
    "dfArtigos.head()"
   ]
  },
  {
   "cell_type": "code",
   "execution_count": 12,
   "metadata": {},
   "outputs": [
    {
     "data": {
      "text/plain": [
       "40"
      ]
     },
     "execution_count": 12,
     "metadata": {},
     "output_type": "execute_result"
    }
   ],
   "source": [
    "# verificando um artigo\n",
    "len(dfArtigos['paper_id'][0])"
   ]
  },
  {
   "cell_type": "code",
   "execution_count": 10,
   "metadata": {},
   "outputs": [
    {
     "data": {
      "image/png": "[encoded data removed]",
      "text/plain": [
       "<Figure size 432x288 with 2 Axes>"
      ]
     },
     "metadata": {
      "needs_background": "light"
     },
     "output_type": "display_data"
    }
   ],
   "source": [
    "## preprocessamento - valores faltantes na base de dados\n",
    "## com o auxilio da lib seaborn será gerado o mapa de calor do DF\n",
    "## exibindo os valores faltantes\n",
    "sns.heatmap(dfArtigos.isnull());"
   ]
  },
  {
   "cell_type": "code",
   "execution_count": 13,
   "metadata": {},
   "outputs": [
    {
     "data": {
      "text/plain": [
       "0"
      ]
     },
     "execution_count": 13,
     "metadata": {},
     "output_type": "execute_result"
    }
   ],
   "source": [
    "# verificando se há algum artigo sem o id\n",
    "# utiliza-se o '' pois a base ja foi tratada na quando se usou \n",
    "# a funcao .strip(), ou seja já foi retirado o espaço do inicio e do fim do artigo\n",
    "# no mapa de calor o espaço é visto como um caractere, dessa forma os artigo que tiverem\n",
    "# apenas o espaço em uma das colunas não será identificado, dessa forma é necessário tratar com o \n",
    "# método a seguir.\n",
    "len(dfArtigos[dfArtigos['paper_id']==''])"
   ]
  },
  {
   "cell_type": "code",
   "execution_count": 18,
   "metadata": {},
   "outputs": [
    {
     "data": {
      "text/plain": [
       "0"
      ]
     },
     "execution_count": 18,
     "metadata": {},
     "output_type": "execute_result"
    }
   ],
   "source": [
    "# verificando se há algum artigo sem o título\n",
    "len(dfArtigos[dfArtigos['title']==''])"
   ]
  },
  {
   "cell_type": "code",
   "execution_count": 21,
   "metadata": {},
   "outputs": [
    {
     "data": {
      "text/plain": [
       "0"
      ]
     },
     "execution_count": 21,
     "metadata": {},
     "output_type": "execute_result"
    }
   ],
   "source": [
    "# verificando se há algum artigo sem o abstract\n",
    "len(dfArtigos[dfArtigos['abstract']==''])"
   ]
  },
  {
   "cell_type": "code",
   "execution_count": 16,
   "metadata": {},
   "outputs": [
    {
     "data": {
      "text/plain": [
       "0"
      ]
     },
     "execution_count": 16,
     "metadata": {},
     "output_type": "execute_result"
    }
   ],
   "source": [
    "# verificando se há algum artigo sem o corpo do artigo\n",
    "len(dfArtigos[dfArtigos['text']==''])"
   ]
  },
  {
   "cell_type": "code",
   "execution_count": 20,
   "metadata": {},
   "outputs": [],
   "source": [
    "## apagando os artigos que faltam informações\n",
    "dfArtigos = dfArtigos[dfArtigos['title'] != ''] # deixando somente os artigos que tem titulo\n",
    "dfArtigos = dfArtigos[dfArtigos['abstract'] != ''] # deixando somente os artigos que tem abstract"
   ]
  },
  {
   "cell_type": "code",
   "execution_count": 25,
   "metadata": {},
   "outputs": [
    {
     "data": {
      "text/plain": [
       "(20343, 4)"
      ]
     },
     "execution_count": 25,
     "metadata": {},
     "output_type": "execute_result"
    }
   ],
   "source": [
    "\n",
    "dfArtigos.shape"
   ]
  },
  {
   "cell_type": "code",
   "execution_count": 26,
   "metadata": {},
   "outputs": [],
   "source": [
    "# remoção de artigos duplicados, o inplace = true remove e atualiza o df\n",
    "dfArtigos.drop_duplicates(['abstract','text','title'], inplace=True)"
   ]
  },
  {
   "cell_type": "code",
   "execution_count": 27,
   "metadata": {},
   "outputs": [
    {
     "data": {
      "text/plain": [
       "(20211, 4)"
      ]
     },
     "execution_count": 27,
     "metadata": {},
     "output_type": "execute_result"
    }
   ],
   "source": [
    "dfArtigos.shape"
   ]
  },
  {
   "cell_type": "code",
   "execution_count": null,
   "metadata": {},
   "outputs": [],
   "source": [
    "# retirando uma amostra da base de dados"
   ]
  }
 ],
 "metadata": {
  "kernelspec": {
   "display_name": "Python 3",
   "language": "python",
   "name": "python3"
  },
  "language_info": {
   "codemirror_mode": {
    "name": "ipython",
    "version": 3
   },
   "file_extension": ".py",
   "mimetype": "text/x-python",
   "name": "python",
   "nbconvert_exporter": "python",
   "pygments_lexer": "ipython3",
   "version": "3.7.6"
  }
 },
 "nbformat": 4,
 "nbformat_minor": 4
}
