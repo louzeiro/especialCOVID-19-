{
 "cells": [
  {
   "cell_type": "markdown",
   "metadata": {},
   "source": [
    "# Descrição do problema"
   ]
  },
  {
   "cell_type": "code",
   "execution_count": null,
   "metadata": {},
   "outputs": [],
   "source": [
    "# assistir o video de introdução para descrever as tarefas tirar print de um .json"
   ]
  },
  {
   "cell_type": "code",
   "execution_count": 1,
   "metadata": {},
   "outputs": [],
   "source": []
  },
  {
   "cell_type": "markdown",
   "metadata": {},
   "source": [
    "## Instalação e carregamento das Bibliotecas"
   ]
  },
  {
   "cell_type": "code",
   "execution_count": 2,
   "metadata": {},
   "outputs": [],
   "source": [
    "#### instalação das bibliotecas - Se necessário\n",
    "#pip install spacy\n",
    "#pip install scispacy\n",
    "#pip install https://s3-us-west-2.amazonaws.com/ai2-s2-scispacy/releases/v0.2.5/en_core_sci_md-0.2.5.tar.gz"
   ]
  },
  {
   "cell_type": "code",
   "execution_count": 1,
   "metadata": {},
   "outputs": [],
   "source": [
    "import numpy as np\n",
    "import zipfile\n",
    "import pandas as pd\n",
    "import glob\n",
    "import json\n",
    "import seaborn as sns\n",
    "import spacy\n",
    "import nltk\n",
    "import scispacy\n",
    "from matplotlib import pyplot as plt\n",
    "import en_core_sci_md "
   ]
  },
  {
   "cell_type": "markdown",
   "metadata": {},
   "source": [
    "## Carregamento da Base de dados\n",
    "Nesse caso inicialmente será criado um dicionário vazio, que será utilizado para buscar na base de dados os seguintes atributos nos artigos:\n",
    "* a identificação (paper_id);\n",
    "* o título (title)\n",
    "* o resumo (abstract)\n",
    "* o corpo (text)"
   ]
  },
  {
   "cell_type": "code",
   "execution_count": 2,
   "metadata": {},
   "outputs": [
    {
     "data": {
      "text/plain": [
       "dict"
      ]
     },
     "execution_count": 2,
     "metadata": {},
     "output_type": "execute_result"
    }
   ],
   "source": [
    "### dicionário\n",
    "dicArtigos = {'paper_id':[], 'title':[],\n",
    "             'abstract':[], 'text':[]}\n",
    "type(dicArtigos)"
   ]
  },
  {
   "cell_type": "markdown",
   "metadata": {},
   "source": [
    "Posteriormente o dicionário é transformado em dataframe, para facilitar a manipulação no decorrer do processamento."
   ]
  },
  {
   "cell_type": "code",
   "execution_count": 3,
   "metadata": {},
   "outputs": [
    {
     "data": {
      "text/plain": [
       "pandas.core.frame.DataFrame"
      ]
     },
     "execution_count": 3,
     "metadata": {},
     "output_type": "execute_result"
    }
   ],
   "source": [
    "## transformando em dataframe\n",
    "dfArtigos = pd.DataFrame.from_dict(dicArtigos)\n",
    "type(dfArtigos)"
   ]
  },
  {
   "cell_type": "markdown",
   "metadata": {},
   "source": [
    "Criada a estrutura, será feita uma busca recursiva pelos arquivos .json presentes no diretório."
   ]
  },
  {
   "cell_type": "code",
   "execution_count": 15,
   "metadata": {},
   "outputs": [
    {
     "name": "stdout",
     "output_type": "stream",
     "text": [
      "Foram encontrados  29315 artigos\n"
     ]
    }
   ],
   "source": [
    "## com o auxilio da blibioteca de leitura de diretorio será\n",
    "## lido o arquivo json, coletado o nome dos artigos e preennchido\n",
    "\n",
    "listaArtigos = glob.glob(f'{\"./\"}//**/*.json', recursive= True) \n",
    "\n",
    "print('Foram encontrados ',len(listaArtigos), ' artigos') # total de artigos percorrido"
   ]
  },
  {
   "cell_type": "markdown",
   "metadata": {},
   "source": [
    "A seguir será criada a função que de fato alimentará o dataframe com os atributos definidos anteriormente."
   ]
  },
  {
   "cell_type": "code",
   "execution_count": 17,
   "metadata": {},
   "outputs": [],
   "source": [
    "## funcao que vai percorrer todos os aquivos e pupilar o DF\n",
    "def funcao_dfArtigos(listaArtigos, df):\n",
    "    for nomeArtigo in listaArtigos:\n",
    "        linhaDF={'paper_id':None, 'title':None,\n",
    "                 'abstract':None, 'text':None}\n",
    "        \n",
    "        with open(nomeArtigo) as json_data:\n",
    "            \n",
    "            dados = json.load(json_data)\n",
    "            \n",
    "            linhaDF['paper_id']=dados['paper_id'].strip() #retirando os espaços no inicio e no fim\n",
    "            linhaDF['title']=dados['metadata']['title'] # há uma tag a mais mostrar a estrutura da base\n",
    "            # extração palavra por palavra do abstract\n",
    "            listaAbstract = [abstract['text'] for abstract in dados['abstract']]\n",
    "            abstract = '\\n'.join(listaAbstract)# unindo\n",
    "            linhaDF['abstract']=abstract.strip()\n",
    "            # extração palavra por palavra do conteudo\n",
    "            listaTexto = [text['text'] for text in dados['body_text']] # unindo\n",
    "            texto = '\\n'.join(listaTexto)\n",
    "            linhaDF['text']=texto.strip()\n",
    "            \n",
    "            df = df.append(linhaDF, ignore_index = True)\n",
    "        \n",
    "    return df\n",
    "    "
   ]
  },
  {
   "cell_type": "markdown",
   "metadata": {},
   "source": [
    "Agora a função criada será chamada e de fato ocorrerá a extração dos dados e insersão no dataframe.\n",
    "\n",
    "Observação: Este procedimento demora alguns minutos.\n"
   ]
  },
  {
   "cell_type": "code",
   "execution_count": 18,
   "metadata": {},
   "outputs": [],
   "source": [
    "dfArtigos = funcao_dfArtigos(listaArtigos, dfArtigos)"
   ]
  },
  {
   "cell_type": "code",
   "execution_count": 19,
   "metadata": {
    "scrolled": false
   },
   "outputs": [
    {
     "name": "stdout",
     "output_type": "stream",
     "text": [
      "O dataframe foi alimentado com  87945  artigos e  4  atributos\n"
     ]
    }
   ],
   "source": [
    "print('O dataframe foi alimentado com ',dfArtigos.shape[0], ' artigos e ', dfArtigos.shape[1], ' atributos')"
   ]
  },
  {
   "cell_type": "markdown",
   "metadata": {},
   "source": [
    "Visualizando os primeiros registros do dataframe"
   ]
  },
  {
   "cell_type": "code",
   "execution_count": 20,
   "metadata": {},
   "outputs": [
    {
     "data": {
      "text/html": [
       "<div>\n",
       "<style scoped>\n",
       "    .dataframe tbody tr th:only-of-type {\n",
       "        vertical-align: middle;\n",
       "    }\n",
       "\n",
       "    .dataframe tbody tr th {\n",
       "        vertical-align: top;\n",
       "    }\n",
       "\n",
       "    .dataframe thead th {\n",
       "        text-align: right;\n",
       "    }\n",
       "</style>\n",
       "<table border=\"1\" class=\"dataframe\">\n",
       "  <thead>\n",
       "    <tr style=\"text-align: right;\">\n",
       "      <th></th>\n",
       "      <th>paper_id</th>\n",
       "      <th>title</th>\n",
       "      <th>abstract</th>\n",
       "      <th>text</th>\n",
       "    </tr>\n",
       "  </thead>\n",
       "  <tbody>\n",
       "    <tr>\n",
       "      <th>0</th>\n",
       "      <td>c79f73c69108533aa867037948f63229d877e9fd</td>\n",
       "      <td></td>\n",
       "      <td></td>\n",
       "      <td>Fatty acids are covalently attached to many me...</td>\n",
       "    </tr>\n",
       "    <tr>\n",
       "      <th>1</th>\n",
       "      <td>90d1d04a22ec4e9f4e1e0d63053a99784ca489d6</td>\n",
       "      <td>Equine sarcoid: In situ demonstration of matri...</td>\n",
       "      <td>Sarcoids are the most prevalent equine skin tu...</td>\n",
       "      <td>Sarcoids are the most common equine skin tumou...</td>\n",
       "    </tr>\n",
       "    <tr>\n",
       "      <th>2</th>\n",
       "      <td>0a9145664ca5e8dd902b5f01f70a53e638ab52a9</td>\n",
       "      <td>Evaluation of a single-tube fluorogenic RT-PCR...</td>\n",
       "      <td>Bovine respiratory syncytial virus (BRSV) caus...</td>\n",
       "      <td>Bovine respiratory syncytial virus (BRSV), a P...</td>\n",
       "    </tr>\n",
       "    <tr>\n",
       "      <th>3</th>\n",
       "      <td>4564577ec73f757cb36aae29fd4c867482f84dee</td>\n",
       "      <td>Evidence and future potential of mobile phone ...</td>\n",
       "      <td>Global health threats such as the recent Ebola...</td>\n",
       "      <td>Novel sources of data coupled with new data mi...</td>\n",
       "    </tr>\n",
       "    <tr>\n",
       "      <th>4</th>\n",
       "      <td>bc9e8da285ed2401fb1351f9edd7891385524c31</td>\n",
       "      <td>Brown</td>\n",
       "      <td>This chapter describes how the impact of psych...</td>\n",
       "      <td>This is an adaptive response in one sense, pro...</td>\n",
       "    </tr>\n",
       "  </tbody>\n",
       "</table>\n",
       "</div>"
      ],
      "text/plain": [
       "                                   paper_id  \\\n",
       "0  c79f73c69108533aa867037948f63229d877e9fd   \n",
       "1  90d1d04a22ec4e9f4e1e0d63053a99784ca489d6   \n",
       "2  0a9145664ca5e8dd902b5f01f70a53e638ab52a9   \n",
       "3  4564577ec73f757cb36aae29fd4c867482f84dee   \n",
       "4  bc9e8da285ed2401fb1351f9edd7891385524c31   \n",
       "\n",
       "                                               title  \\\n",
       "0                                                      \n",
       "1  Equine sarcoid: In situ demonstration of matri...   \n",
       "2  Evaluation of a single-tube fluorogenic RT-PCR...   \n",
       "3  Evidence and future potential of mobile phone ...   \n",
       "4                                              Brown   \n",
       "\n",
       "                                            abstract  \\\n",
       "0                                                      \n",
       "1  Sarcoids are the most prevalent equine skin tu...   \n",
       "2  Bovine respiratory syncytial virus (BRSV) caus...   \n",
       "3  Global health threats such as the recent Ebola...   \n",
       "4  This chapter describes how the impact of psych...   \n",
       "\n",
       "                                                text  \n",
       "0  Fatty acids are covalently attached to many me...  \n",
       "1  Sarcoids are the most common equine skin tumou...  \n",
       "2  Bovine respiratory syncytial virus (BRSV), a P...  \n",
       "3  Novel sources of data coupled with new data mi...  \n",
       "4  This is an adaptive response in one sense, pro...  "
      ]
     },
     "execution_count": 20,
     "metadata": {},
     "output_type": "execute_result"
    }
   ],
   "source": [
    "dfArtigos.head()"
   ]
  },
  {
   "cell_type": "markdown",
   "metadata": {},
   "source": [
    "Verificando se o conteúdo do artigo foi carregado"
   ]
  },
  {
   "cell_type": "code",
   "execution_count": 22,
   "metadata": {},
   "outputs": [
    {
     "data": {
      "text/plain": [
       "13775"
      ]
     },
     "execution_count": 22,
     "metadata": {},
     "output_type": "execute_result"
    }
   ],
   "source": [
    "# verificando o conteúdo do primeiro artigo do dataframe\n",
    "len(dfArtigos['text'][0])"
   ]
  },
  {
   "cell_type": "markdown",
   "metadata": {},
   "source": [
    "## Pré Processamento da Base de dados\n",
    "\n",
    "Inicialmente será verificado no dataframe se há valores faltantes, ou seja, se no dataframe os artigos foram  alimentado com todos os atributos definidos no dicionário. \n",
    "\n",
    "Então, por se tratar de uma base de dados textual será será feito um mapa de calor com o auxilio da biblioteca seaborn. A intenção é visualmente saber em quais artigos há atributos faltantes."
   ]
  },
  {
   "cell_type": "code",
   "execution_count": 24,
   "metadata": {},
   "outputs": [
    {
     "data": {
      "image/png": "[encoded data removed]",
      "text/plain": [
       "<Figure size 432x288 with 2 Axes>"
      ]
     },
     "metadata": {
      "needs_background": "light"
     },
     "output_type": "display_data"
    }
   ],
   "source": [
    "sns.heatmap(dfArtigos.isnull());"
   ]
  },
  {
   "cell_type": "markdown",
   "metadata": {},
   "source": [
    "De acordo com o mapa de calor, em todos os artigos foram carregadas alguma informação em cada atributo, seja informação útil ou apenas um espaço. No entanto, conforme é possível notar no head do dataframe, há artigos sem título ou sem ID. Dessa forma será verificado em todas as colunas do dataframe se há algum atributo com apenas um espaço, ou seja ''"
   ]
  },
  {
   "cell_type": "code",
   "execution_count": 29,
   "metadata": {},
   "outputs": [
    {
     "name": "stdout",
     "output_type": "stream",
     "text": [
      "Foram encontrados  0 artigos sem o ID\n"
     ]
    }
   ],
   "source": [
    "# verificando se há artigo sem ID\n",
    "print ('Foram encontrados ',len(dfArtigos[dfArtigos['paper_id']=='']), 'artigos sem o ID')"
   ]
  },
  {
   "cell_type": "code",
   "execution_count": 30,
   "metadata": {},
   "outputs": [
    {
     "name": "stdout",
     "output_type": "stream",
     "text": [
      "Foram encontrados  10749 artigos sem o título\n"
     ]
    }
   ],
   "source": [
    "print ('Foram encontrados ',len(dfArtigos[dfArtigos['title']=='']),'artigos sem o título')"
   ]
  },
  {
   "cell_type": "code",
   "execution_count": 32,
   "metadata": {},
   "outputs": [
    {
     "name": "stdout",
     "output_type": "stream",
     "text": [
      "Foram encontrados  24153 artigos sem o resumo\n"
     ]
    }
   ],
   "source": [
    "print ('Foram encontrados ',len(dfArtigos[dfArtigos['abstract']=='']), 'artigos sem o resumo')"
   ]
  },
  {
   "cell_type": "code",
   "execution_count": 33,
   "metadata": {},
   "outputs": [
    {
     "name": "stdout",
     "output_type": "stream",
     "text": [
      "Foram encontrados  0 artigos sem conteúdo\n"
     ]
    }
   ],
   "source": [
    "print ('Foram encontrados ',len(dfArtigos[dfArtigos['text']=='']),'artigos sem conteúdo')"
   ]
  },
  {
   "cell_type": "markdown",
   "metadata": {},
   "source": [
    "Feita as verificações, será excluído da base de dados os artigos com informações faltantes"
   ]
  },
  {
   "cell_type": "code",
   "execution_count": 35,
   "metadata": {},
   "outputs": [
    {
     "data": {
      "text/plain": [
       "87945"
      ]
     },
     "execution_count": 35,
     "metadata": {},
     "output_type": "execute_result"
    }
   ],
   "source": [
    "totalArtigos=dfArtigos.shape[0]\n",
    "totalArtigos"
   ]
  },
  {
   "cell_type": "code",
   "execution_count": 39,
   "metadata": {},
   "outputs": [],
   "source": [
    "## apagando os artigos que faltam informações\n",
    "dfArtigos = dfArtigos[dfArtigos['title'] != ''] # deixando somente os artigos que tem titulo"
   ]
  },
  {
   "cell_type": "code",
   "execution_count": 40,
   "metadata": {},
   "outputs": [],
   "source": [
    "dfArtigos = dfArtigos[dfArtigos['abstract'] != ''] # deixando somente os artigos que tem abstract"
   ]
  },
  {
   "cell_type": "code",
   "execution_count": 41,
   "metadata": {},
   "outputs": [
    {
     "name": "stdout",
     "output_type": "stream",
     "text": [
      "Haviam  87945 após a limpeza ficaram,  61029 artigos\n"
     ]
    }
   ],
   "source": [
    "print('Haviam ', totalArtigos,'após a limpeza ficaram, ', dfArtigos.shape[0],'artigos')"
   ]
  },
  {
   "cell_type": "markdown",
   "metadata": {},
   "source": [
    "Por fim, usando uma função do pandas, será removido os artigos que estejam duplicados no dataframe."
   ]
  },
  {
   "cell_type": "code",
   "execution_count": 43,
   "metadata": {},
   "outputs": [],
   "source": [
    "# remoção de artigos duplicados, o inplace = true remove e atualiza o df\n",
    "dfArtigos.drop_duplicates(['abstract','text','title'], inplace=True)"
   ]
  },
  {
   "cell_type": "code",
   "execution_count": 50,
   "metadata": {},
   "outputs": [
    {
     "name": "stdout",
     "output_type": "stream",
     "text": [
      "Após todo o préprossecamento restaram  20211 artigo\n",
      "Uma redução de 77 % da base de dados\n"
     ]
    }
   ],
   "source": [
    "print('Após todo o préprossecamento restaram ', dfArtigos.shape[0],'artigo')\n",
    "print('Uma redução de',round(100-dfArtigos.shape[0]*100/totalArtigos), '% da base de dados')"
   ]
  },
  {
   "cell_type": "code",
   "execution_count": null,
   "metadata": {},
   "outputs": [],
   "source": [
    "# retirando uma amostra da base de dados, trabalhando com uma amostra de 500 registros\n"
   ]
  }
 ],
 "metadata": {
  "kernelspec": {
   "display_name": "Python 3",
   "language": "python",
   "name": "python3"
  },
  "language_info": {
   "codemirror_mode": {
    "name": "ipython",
    "version": 3
   },
   "file_extension": ".py",
   "mimetype": "text/x-python",
   "name": "python",
   "nbconvert_exporter": "python",
   "pygments_lexer": "ipython3",
   "version": "3.7.6"
  }
 },
 "nbformat": 4,
 "nbformat_minor": 4
}
